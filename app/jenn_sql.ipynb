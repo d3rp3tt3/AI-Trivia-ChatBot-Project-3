{
 "cells": [
  {
   "cell_type": "code",
   "execution_count": 25,
   "metadata": {},
   "outputs": [],
   "source": [
    "%%capture --no-stderr\n",
    "%pip install --upgrade --quiet langchain langchain-community faiss-cpu"
   ]
  },
  {
   "cell_type": "code",
   "execution_count": 26,
   "metadata": {},
   "outputs": [],
   "source": [
    "# Enable tracing\n",
    "# os.environ[\"LANGCHAIN_TRACING_V2\"] = \"true\"\n",
    "# logging.basicConfig(stream=sys.stdout, level=logging.DEBUG)\n",
    "# logging.getLogger().addHandler(logging.StreamHandler(stream=sys.stdout))"
   ]
  },
  {
   "cell_type": "markdown",
   "metadata": {},
   "source": [
    "### Call LLM Model"
   ]
  },
  {
   "cell_type": "code",
   "execution_count": 27,
   "metadata": {},
   "outputs": [],
   "source": [
    "# Add phi3:3.8b LLM model\n",
    "from langchain_ollama import ChatOllama\n",
    "\n",
    "model = ChatOllama(\n",
    "    model=\"phi3:3.8b\",\n",
    ")"
   ]
  },
  {
   "cell_type": "code",
   "execution_count": 28,
   "metadata": {},
   "outputs": [
    {
     "name": "stdout",
     "output_type": "stream",
     "text": [
      "The capital of France is Paris. It'ran city with a rich history that dates back to its founding in the 3rd century BC, known for iconic landmarks such as the Eiffel Tower and the Louvre Museum. The Île de la Cité, where Paris was founded, lies within two rivers: the Seine and the Bièvre which once passed through but is now largely underground due to urban development in the 19th century. Paris serves not only as a political center of France with its status as the seat of government institutions like the Elysée Palace where the President lives, but also as an economic powerhouse and one of Europe's most vibrant cultural hubs, home to countless museums, galleries, cafes, and boulevards that reflect a unique Parisian lifestyle.\n"
     ]
    }
   ],
   "source": [
    "# Test LLM model is working\n",
    "response_message = model.invoke(\"What is the capital of France?\")\n",
    "\n",
    "print(response_message.content)"
   ]
  },
  {
   "cell_type": "code",
   "execution_count": 29,
   "metadata": {},
   "outputs": [
    {
     "name": "stdout",
     "output_type": "stream",
     "text": [
      "Welcome to the Quiz Chatbot!\n",
      "\n",
      "Available categories:\n",
      "1. SCIENCE\n",
      "2. LITERATURE\n",
      "3. AMERICAN HISTORY\n",
      "\n",
      "Question: The wife of this Sinclair Lewis research scientist dies during an epidemic in the West Indies\n",
      "Incorrect. The correct answer was: Arrowsmith\n",
      "\n",
      "Available categories:\n",
      "1. SCIENCE\n",
      "2. LITERATURE\n",
      "3. AMERICAN HISTORY\n",
      "\n",
      "Question: Part of a corkscrew is this type of simple machine reworked into a spiral form\n",
      "Incorrect. The correct answer was: an inclined plane (ramp later ruled acceptable)\n",
      "\n",
      "Available categories:\n",
      "1. SCIENCE\n",
      "2. LITERATURE\n",
      "3. AMERICAN HISTORY\n",
      "\n",
      "Question: (<a href=\"http://www.j-archive.com/media/2008-07-04_DJ_10.jpg\" target=\"_blank\">Jimmy of the Clue Crew explains a chemical reaction</a>) A chemical reaction between food coloring and bleach, which contains <a href=\"http://www.j-archive.com/media/2008-07-04_DJ_10a.jpg\" target=\"_blank\">this</a> chemical, NaClO3, turns the color liquid into a colorless compound\n",
      "Incorrect. The correct answer was: sodium chlorate\n",
      "\n",
      "Available categories:\n",
      "1. SCIENCE\n",
      "2. LITERATURE\n",
      "3. AMERICAN HISTORY\n",
      "Thank you for playing!\n"
     ]
    }
   ],
   "source": [
    "import pandas as pd\n",
    "from langchain_ollama import ChatOllama\n",
    "from langchain.prompts import ChatPromptTemplate\n",
    "from langchain.schema import HumanMessage, SystemMessage\n",
    "import random\n",
    "import sqlite3\n",
    "\n",
    "class QuizChatbot:\n",
    "    def __init__(self, db_path: str):\n",
    "        # Connect to the SQLite database\n",
    "        conn = sqlite3.connect(db_path)\n",
    "            \n",
    "        # Execute a query to retrieve the data\n",
    "        query = \"SELECT * FROM jeopardy\"\n",
    "        self.df = pd.read_sql_query(query, conn)\n",
    "            \n",
    "        # Close the connection\n",
    "        conn.close()\n",
    "        \n",
    "        self.categories = self.df['Category'].unique().tolist()\n",
    "            \n",
    "        # Initialize the Ollama model\n",
    "        self.llm = ChatOllama(\n",
    "            model=\"phi3:3.8b\",\n",
    "            temperature=0\n",
    "        )\n",
    "            \n",
    "        # Initialize state variables\n",
    "        self.current_question = None\n",
    "        self.current_answer = None\n",
    "\n",
    "    def get_categories(self) -> str:\n",
    "        \"\"\"Return formatted list of categories\"\"\"\n",
    "        return \"\\n\".join([f\"{i+1}. {cat}\" for i, cat in enumerate(self.categories)])\n",
    "    \n",
    "    def select_question(self, category: str) -> tuple:\n",
    "        \"\"\"Select a random question from the specified category\"\"\"\n",
    "        category_questions = self.df[self.df['Category'] == category]\n",
    "        if len(category_questions) == 0:\n",
    "            return None, None\n",
    "        \n",
    "        question_row = category_questions.sample(n=1).iloc[0]\n",
    "        return question_row['Question'], question_row['Answer']\n",
    "    \n",
    "    def verify_answer(self, user_answer: str, correct_answer: str) -> bool:\n",
    "        \"\"\"Use the LLM to verify if the answer is correct\"\"\"\n",
    "        prompt = ChatPromptTemplate.from_messages([\n",
    "            SystemMessage(content=\"\"\"You are an answer verification expert. \n",
    "            Compare the user's answer with the correct answer and determine if they are semantically equivalent.\n",
    "            Respond with only 'True' if correct or 'False' if incorrect.\"\"\"),\n",
    "            HumanMessage(content=f\"\"\"\n",
    "            Correct answer: {correct_answer}\n",
    "            User's answer: {user_answer}\n",
    "            Are these answers semantically equivalent?\n",
    "            \"\"\")\n",
    "        ])\n",
    "        \n",
    "        response = self.llm.invoke(prompt.format_messages())\n",
    "        return 'true' in response.content.lower()\n",
    "    \n",
    "    def run(self):\n",
    "        \"\"\"Main interaction loop\"\"\"\n",
    "        print(\"Welcome to the Quiz Chatbot!\")\n",
    "        \n",
    "        while True:\n",
    "            print(\"\\nAvailable categories:\")\n",
    "            print(self.get_categories())\n",
    "            \n",
    "            # Get category selection\n",
    "            selection = input(\"\\nPlease select a category number (or 'quit' to exit): \")\n",
    "            \n",
    "            if selection.lower() == 'quit':\n",
    "                print(\"Thank you for playing!\")\n",
    "                break\n",
    "                \n",
    "            try:\n",
    "                category_index = int(selection) - 1\n",
    "                if 0 <= category_index < len(self.categories):\n",
    "                    selected_category = self.categories[category_index]\n",
    "                    \n",
    "                    # Get random question from category\n",
    "                    question, answer = self.select_question(selected_category)\n",
    "                    if question is None:\n",
    "                        print(\"Error: No questions available in this category.\")\n",
    "                        continue\n",
    "                    \n",
    "                    # Ask question and get user's answer\n",
    "                    print(f\"\\nQuestion: {question}\")\n",
    "                    user_answer = input(\"Your answer: \")\n",
    "                    \n",
    "                    # Verify answer\n",
    "                    is_correct = self.verify_answer(user_answer, answer)\n",
    "                    \n",
    "                    # Provide feedback\n",
    "                    if is_correct:\n",
    "                        print(\"Correct! Well done!\")\n",
    "                    else:\n",
    "                        print(f\"Incorrect. The correct answer was: {answer}\")\n",
    "                else:\n",
    "                    print(\"Invalid category number. Please try again.\")\n",
    "            except ValueError:\n",
    "                print(\"Please enter a valid number.\")\n",
    "\n",
    "# Usage\n",
    "db_path = \"../data/prod/trivia_qa.db\"\n",
    "if __name__ == \"__main__\":\n",
    "    chatbot = QuizChatbot(db_path)\n",
    "    chatbot.run()\n"
   ]
  }
 ],
 "metadata": {
  "kernelspec": {
   "display_name": "dev",
   "language": "python",
   "name": "python3"
  },
  "language_info": {
   "codemirror_mode": {
    "name": "ipython",
    "version": 3
   },
   "file_extension": ".py",
   "mimetype": "text/x-python",
   "name": "python",
   "nbconvert_exporter": "python",
   "pygments_lexer": "ipython3",
   "version": "3.10.14"
  }
 },
 "nbformat": 4,
 "nbformat_minor": 2
}
