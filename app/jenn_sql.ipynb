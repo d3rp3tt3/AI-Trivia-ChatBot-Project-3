{
 "cells": [
  {
   "cell_type": "code",
   "execution_count": 3,
   "metadata": {},
   "outputs": [],
   "source": [
    "%%capture --no-stderr\n",
    "%pip install --upgrade --quiet langchain langchain-community faiss-cpu"
   ]
  },
  {
   "cell_type": "code",
   "execution_count": 25,
   "metadata": {},
   "outputs": [
    {
     "data": {
      "text/html": [
       "<div>\n",
       "<style scoped>\n",
       "    .dataframe tbody tr th:only-of-type {\n",
       "        vertical-align: middle;\n",
       "    }\n",
       "\n",
       "    .dataframe tbody tr th {\n",
       "        vertical-align: top;\n",
       "    }\n",
       "\n",
       "    .dataframe thead th {\n",
       "        text-align: right;\n",
       "    }\n",
       "</style>\n",
       "<table border=\"1\" class=\"dataframe\">\n",
       "  <thead>\n",
       "    <tr style=\"text-align: right;\">\n",
       "      <th></th>\n",
       "      <th>Category</th>\n",
       "      <th>Question</th>\n",
       "      <th>Answer</th>\n",
       "    </tr>\n",
       "  </thead>\n",
       "  <tbody>\n",
       "    <tr>\n",
       "      <th>0</th>\n",
       "      <td>HISTORY</td>\n",
       "      <td>For the last 8 years of his life, Galileo was ...</td>\n",
       "      <td>Copernicus</td>\n",
       "    </tr>\n",
       "    <tr>\n",
       "      <th>1</th>\n",
       "      <td>ESPN's TOP 10 ALL-TIME ATHLETES</td>\n",
       "      <td>No. 2: 1912 Olympian; football star at Carlisl...</td>\n",
       "      <td>Jim Thorpe</td>\n",
       "    </tr>\n",
       "    <tr>\n",
       "      <th>2</th>\n",
       "      <td>EVERYBODY TALKS ABOUT IT...</td>\n",
       "      <td>The city of Yuma in this state has a record av...</td>\n",
       "      <td>Arizona</td>\n",
       "    </tr>\n",
       "    <tr>\n",
       "      <th>3</th>\n",
       "      <td>THE COMPANY LINE</td>\n",
       "      <td>In 1963, live on \"The Art Linkletter Show\", th...</td>\n",
       "      <td>McDonald's</td>\n",
       "    </tr>\n",
       "    <tr>\n",
       "      <th>4</th>\n",
       "      <td>EPITAPHS &amp; TRIBUTES</td>\n",
       "      <td>Signer of the Dec. of Indep., framer of the Co...</td>\n",
       "      <td>John Adams</td>\n",
       "    </tr>\n",
       "  </tbody>\n",
       "</table>\n",
       "</div>"
      ],
      "text/plain": [
       "                          Category  \\\n",
       "0                          HISTORY   \n",
       "1  ESPN's TOP 10 ALL-TIME ATHLETES   \n",
       "2      EVERYBODY TALKS ABOUT IT...   \n",
       "3                 THE COMPANY LINE   \n",
       "4              EPITAPHS & TRIBUTES   \n",
       "\n",
       "                                            Question      Answer  \n",
       "0  For the last 8 years of his life, Galileo was ...  Copernicus  \n",
       "1  No. 2: 1912 Olympian; football star at Carlisl...  Jim Thorpe  \n",
       "2  The city of Yuma in this state has a record av...     Arizona  \n",
       "3  In 1963, live on \"The Art Linkletter Show\", th...  McDonald's  \n",
       "4  Signer of the Dec. of Indep., framer of the Co...  John Adams  "
      ]
     },
     "execution_count": 25,
     "metadata": {},
     "output_type": "execute_result"
    }
   ],
   "source": [
    "# load test data\n",
    "import pandas as pd\n",
    "\n",
    "df = pd.read_csv('test_data/test_question_set_cleaned.csv')\n",
    "df.head()"
   ]
  },
  {
   "cell_type": "code",
   "execution_count": 26,
   "metadata": {},
   "outputs": [
    {
     "data": {
      "text/plain": [
       "Category    0\n",
       "Question    0\n",
       "Answer      0\n",
       "dtype: int64"
      ]
     },
     "execution_count": 26,
     "metadata": {},
     "output_type": "execute_result"
    }
   ],
   "source": [
    "# Identify if there are any null cells\n",
    "df.isnull().sum()"
   ]
  },
  {
   "cell_type": "code",
   "execution_count": 13,
   "metadata": {},
   "outputs": [],
   "source": [
    "# Convert test data to a format that can be used by the model - from CSV to SQLite\n",
    "from pathlib import Path\n",
    "\n",
    "# Load the data\n",
    "Path('test_data.db').touch()\n"
   ]
  },
  {
   "cell_type": "markdown",
   "metadata": {},
   "source": [
    "### Create SQL Database and Load Trivia Data Into It"
   ]
  },
  {
   "cell_type": "code",
   "execution_count": null,
   "metadata": {},
   "outputs": [],
   "source": [
    "df = pandas.read_csv(test_data/test_question_set_cleaned.csv)\n",
    "df.to_sql(test_data.db, conn, if_exists='append', index=False)"
   ]
  },
  {
   "cell_type": "code",
   "execution_count": 17,
   "metadata": {},
   "outputs": [],
   "source": [
    "import csv, sqlite3\n",
    "\n",
    "conn = sqlite3.connect('test_data.db')\n",
    "cur = conn.cursor()\n",
    "\n",
    "with open('test_data/test_question_set_cleaned.csv') as f:\n",
    "    reader = csv.reader(f)\n",
    "    data = list(reader)"
   ]
  },
  {
   "cell_type": "code",
   "execution_count": 21,
   "metadata": {},
   "outputs": [
    {
     "data": {
      "text/plain": [
       "<sqlite3.Cursor at 0x114634cc0>"
      ]
     },
     "execution_count": 21,
     "metadata": {},
     "output_type": "execute_result"
    }
   ],
   "source": [
    "cur.execute(''' \n",
    "CREATE TABLE test_question_set (\n",
    "    category TEXT,\n",
    "    question TEXT,\n",
    "    answer TEXT);\n",
    "''')"
   ]
  },
  {
   "cell_type": "code",
   "execution_count": 22,
   "metadata": {},
   "outputs": [],
   "source": [
    "for row in data:\n",
    "    cur.execute('INSERT INTO test_question_set VALUES (?, ?, ?)', row)"
   ]
  },
  {
   "cell_type": "code",
   "execution_count": 23,
   "metadata": {},
   "outputs": [],
   "source": [
    "conn.commit()"
   ]
  },
  {
   "cell_type": "code",
   "execution_count": 24,
   "metadata": {},
   "outputs": [],
   "source": [
    "conn.close()"
   ]
  },
  {
   "cell_type": "code",
   "execution_count": null,
   "metadata": {},
   "outputs": [],
   "source": [
    "import csv, sqlite3\n",
    "\n",
    "conn = sqlite3.connect('test_data.db')\n",
    "cur = conn.cursor()\n",
    "cur.execute(\"CREATE TABLE jeopardy_set (Category, Question, Answer)\")\n",
    "\n",
    "# Load the data into the Pandas DataFrame\n",
    "with open ('test_data/test_question_set_cleaned.csv', 'r') as f:\n",
    "    dr = csv.DictReader(f)\n",
    "    to_db = [(i['Category'], i['Question'], i['Answer']) for i in dr]\n",
    "\n",
    "cur.executemany(\"INSERT INTO t (Category, Question, Answer) VALUES (?, ?, ?);\", to_db)\n",
    "conn.commit()\n",
    "conn.close()\n"
   ]
  },
  {
   "cell_type": "code",
   "execution_count": 11,
   "metadata": {},
   "outputs": [
    {
     "name": "stdout",
     "output_type": "stream",
     "text": [
      "sqlite\n",
      "['jeopardy_set']\n"
     ]
    },
    {
     "data": {
      "text/plain": [
       "''"
      ]
     },
     "execution_count": 11,
     "metadata": {},
     "output_type": "execute_result"
    }
   ],
   "source": [
    "# Test database connection\n",
    "\n",
    "from langchain_community.utilities import SQLDatabase\n",
    "\n",
    "db = SQLDatabase.from_uri(\"sqlite:///test_data.db\")\n",
    "print(db.dialect)\n",
    "print(db.get_usable_table_names())\n",
    "db.run(\"SELECT * FROM jeopardy_set;\")\n"
   ]
  },
  {
   "cell_type": "code",
   "execution_count": null,
   "metadata": {},
   "outputs": [],
   "source": [
    "# Enable tracing\n",
    "# os.environ[\"LANGCHAIN_TRACING_V2\"] = \"true\"\n",
    "# logging.basicConfig(stream=sys.stdout, level=logging.DEBUG)\n",
    "# logging.getLogger().addHandler(logging.StreamHandler(stream=sys.stdout))"
   ]
  },
  {
   "cell_type": "markdown",
   "metadata": {},
   "source": [
    "### Call LLM Model"
   ]
  },
  {
   "cell_type": "code",
   "execution_count": null,
   "metadata": {},
   "outputs": [],
   "source": [
    "# Add phi3:3.8b LLM model\n",
    "from langchain_ollama import ChatOllama\n",
    "\n",
    "model = ChatOllama(\n",
    "    model=\"phi3:3.8b\",\n",
    ")"
   ]
  },
  {
   "cell_type": "code",
   "execution_count": null,
   "metadata": {},
   "outputs": [],
   "source": [
    "# Test LLM model is working\n",
    "response_message = model.invoke(\"What is the capital of France?\")\n",
    "\n",
    "print(response_message.content)"
   ]
  },
  {
   "cell_type": "code",
   "execution_count": null,
   "metadata": {},
   "outputs": [],
   "source": [
    "import pandas as pd\n",
    "from langchain_ollama import ChatOllama\n",
    "from langchain.prompts import ChatPromptTemplate\n",
    "from langchain.schema import HumanMessage, SystemMessage\n",
    "import random\n",
    "\n",
    "class QuizChatbot:\n",
    "    def __init__(self, csv_path: str):\n",
    "        # Load the CSV data\n",
    "        self.df = pd.read_csv(csv_path)\n",
    "        self.categories = self.df['Category'].unique().tolist()\n",
    "        \n",
    "        # Initialize the Ollama model\n",
    "        self.llm = ChatOllama(\n",
    "            model=\"phi3:3.8b\",\n",
    "            temperature=0\n",
    "        )\n",
    "        \n",
    "        # Initialize state variables\n",
    "        self.current_question = None\n",
    "        self.current_answer = None\n",
    "        \n",
    "    def get_categories(self) -> str:\n",
    "        \"\"\"Return formatted list of categories\"\"\"\n",
    "        return \"\\n\".join([f\"{i+1}. {cat}\" for i, cat in enumerate(self.categories)])\n",
    "    \n",
    "    def select_question(self, category: str) -> tuple:\n",
    "        \"\"\"Select a random question from the specified category\"\"\"\n",
    "        category_questions = self.df[self.df['Category'] == category]\n",
    "        if len(category_questions) == 0:\n",
    "            return None, None\n",
    "        \n",
    "        question_row = category_questions.sample(n=1).iloc[0]\n",
    "        return question_row['Question'], question_row['Answer']\n",
    "    \n",
    "    def verify_answer(self, user_answer: str, correct_answer: str) -> bool:\n",
    "        \"\"\"Use the LLM to verify if the answer is correct\"\"\"\n",
    "        prompt = ChatPromptTemplate.from_messages([\n",
    "            SystemMessage(content=\"\"\"You are an answer verification expert. \n",
    "            Compare the user's answer with the correct answer and determine if they are semantically equivalent.\n",
    "            Respond with only 'True' if correct or 'False' if incorrect.\"\"\"),\n",
    "            HumanMessage(content=f\"\"\"\n",
    "            Correct answer: {correct_answer}\n",
    "            User's answer: {user_answer}\n",
    "            Are these answers semantically equivalent?\n",
    "            \"\"\")\n",
    "        ])\n",
    "        \n",
    "        response = self.llm.invoke(prompt.format_messages())\n",
    "        return 'true' in response.content.lower()\n",
    "    \n",
    "    def run(self):\n",
    "        \"\"\"Main interaction loop\"\"\"\n",
    "        print(\"Welcome to the Quiz Chatbot!\")\n",
    "        \n",
    "        while True:\n",
    "            print(\"\\nAvailable categories:\")\n",
    "            print(self.get_categories())\n",
    "            \n",
    "            # Get category selection\n",
    "            selection = input(\"\\nPlease select a category number (or 'quit' to exit): \")\n",
    "            \n",
    "            if selection.lower() == 'quit':\n",
    "                print(\"Thank you for playing!\")\n",
    "                break\n",
    "                \n",
    "            try:\n",
    "                category_index = int(selection) - 1\n",
    "                if 0 <= category_index < len(self.categories):\n",
    "                    selected_category = self.categories[category_index]\n",
    "                    \n",
    "                    # Get random question from category\n",
    "                    question, answer = self.select_question(selected_category)\n",
    "                    if question is None:\n",
    "                        print(\"Error: No questions available in this category.\")\n",
    "                        continue\n",
    "                    \n",
    "                    # Ask question and get user's answer\n",
    "                    print(f\"\\nQuestion: {question}\")\n",
    "                    user_answer = input(\"Your answer: \")\n",
    "                    \n",
    "                    # Verify answer\n",
    "                    is_correct = self.verify_answer(user_answer, answer)\n",
    "                    \n",
    "                    # Provide feedback\n",
    "                    if is_correct:\n",
    "                        print(\"Correct! Well done!\")\n",
    "                    else:\n",
    "                        print(f\"Incorrect. The correct answer was: {answer}\")\n",
    "                else:\n",
    "                    print(\"Invalid category number. Please try again.\")\n",
    "            except ValueError:\n",
    "                print(\"Please enter a valid number.\")\n",
    "\n",
    "# Usage\n",
    "if __name__ == \"__main__\":\n",
    "    chatbot = QuizChatbot(\"test_data/test_question_set_cleaned.csv\")\n",
    "    chatbot.run()\n"
   ]
  },
  {
   "cell_type": "code",
   "execution_count": null,
   "metadata": {},
   "outputs": [],
   "source": [
    "import pandas as pd\n",
    "from langchain.agents import Tool\n",
    "from langchain.agents import AgentExecutor, CasualAgent\n",
    "from langchain.memory import ConversationBufferMemory\n",
    "import random\n",
    "\n",
    "class QuizBot:\n",
    "    def __init__(self, csv_path):\n",
    "        # Load the CSV data\n",
    "        self.df = pd.read_csv(csv_path)\n",
    "        self.categories = self.df['category'].unique().tolist()\n",
    "        self.current_question = None\n",
    "        self.current_answer = None\n",
    "        \n",
    "        # Initialize LangChain components\n",
    "        self.llm = ChatOllama(\n",
    "            model=\"phi3:3.8b\",\n",
    "            temperature=0\n",
    "        )\n",
    "        self.memory = ConversationBufferMemory(memory_key=\"chat_history\")\n",
    "        \n",
    "        # Define tools for the agent\n",
    "        self.tools = [\n",
    "            Tool(\n",
    "                name=\"get_categories\",\n",
    "                func=self.get_categories,\n",
    "                description=\"Get list of available categories\"\n",
    "            ),\n",
    "            Tool(\n",
    "                name=\"select_question\",\n",
    "                func=self.select_question,\n",
    "                description=\"Select a random question from a category\"\n",
    "            ),\n",
    "            Tool(\n",
    "                name=\"verify_answer\",\n",
    "                func=self.verify_answer,\n",
    "                description=\"Verify if the provided answer is correct\"\n",
    "            )\n",
    "        ]\n",
    "        \n",
    "        # Create the agent\n",
    "        self.agent = ConversationationalAgent.from_llm_and_tools(\n",
    "            llm=self.llm,\n",
    "            tools=self.tools,\n",
    "            verbose=True\n",
    "        )\n",
    "        \n",
    "        self.agent_executor = AgentExecutor.from_agent_and_tools(\n",
    "            agent=self.agent,\n",
    "            tools=self.tools,\n",
    "            memory=self.memory,\n",
    "            verbose=True\n",
    "        )\n",
    "\n",
    "    def get_categories(self):\n",
    "        \"\"\"Return available categories\"\"\"\n",
    "        return f\"Available categories: {', '.join(self.categories)}\"\n",
    "\n",
    "    def select_question(self, category):\n",
    "        \"\"\"Select a random question from the specified category\"\"\"\n",
    "        category_questions = self.df[self.df['Category'] == category]\n",
    "        if len(category_questions) == 0:\n",
    "            return \"Category not found\"\n",
    "        \n",
    "        question_row = category_questions.sample(n=1).iloc[0]\n",
    "        self.current_question = question_row['Question']\n",
    "        self.current_answer = question_row['Answer']\n",
    "        return self.current_question\n",
    "\n",
    "    def verify_answer(self, user_answer):\n",
    "        \"\"\"Verify if the user's answer is correct\"\"\"\n",
    "        if self.current_answer is None:\n",
    "            return \"No question has been selected yet\"\n",
    "        \n",
    "        # Use the LLM to compare answers more flexibly\n",
    "        prompt = f\"\"\"\n",
    "        Compare these answers and determine if they are semantically equivalent:\n",
    "        Correct answer: {self.current_answer}\n",
    "        User answer: {user_answer}\n",
    "        Respond with only 'True' if they match, 'False' if they don't.\n",
    "        \"\"\"\n",
    "        \n",
    "        response = self.llm.predict(prompt)\n",
    "        is_correct = 'true' in response.lower()\n",
    "        \n",
    "        return \"Correct!\" if is_correct else f\"Incorrect. The correct answer is: {self.current_answer}\"\n",
    "\n",
    "    def run(self):\n",
    "        \"\"\"Run the interactive quiz\"\"\"\n",
    "        print(\"Welcome to the Quiz Bot!\")\n",
    "        print(self.get_categories())\n",
    "        \n",
    "        while True:\n",
    "            user_input = input(\"\\nPlease select a category or type 'quit' to exit: \")\n",
    "            \n",
    "            if user_input.lower() == 'quit':\n",
    "                break\n",
    "                \n",
    "            if user_input in self.categories:\n",
    "                question = self.select_question(user_input)\n",
    "                print(f\"\\nQuestion: {question}\")\n",
    "                \n",
    "                answer = input(\"Your answer: \")\n",
    "                result = self.verify_answer(answer)\n",
    "                print(result)\n",
    "            else:\n",
    "                print(\"Invalid category. Please choose from the available categories.\")\n",
    "\n",
    "# Usage\n",
    "if __name__ == \"__main__\":\n",
    "    quiz_bot = QuizBot(\"test_data/test_question_set_cleaned.csv\")\n",
    "    quiz_bot.run()\n"
   ]
  }
 ],
 "metadata": {
  "kernelspec": {
   "display_name": "dev",
   "language": "python",
   "name": "python3"
  },
  "language_info": {
   "codemirror_mode": {
    "name": "ipython",
    "version": 3
   },
   "file_extension": ".py",
   "mimetype": "text/x-python",
   "name": "python",
   "nbconvert_exporter": "python",
   "pygments_lexer": "ipython3",
   "version": "3.10.14"
  }
 },
 "nbformat": 4,
 "nbformat_minor": 2
}
